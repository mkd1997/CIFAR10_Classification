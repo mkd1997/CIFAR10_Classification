{
 "cells": [
  {
   "cell_type": "code",
   "execution_count": 89,
   "metadata": {},
   "outputs": [],
   "source": [
    "import pickle\n",
    "import cv2\n",
    "import numpy as np\n",
    "from matplotlib import pyplot as plt\n",
    "from sklearn.cluster import KMeans\n",
    "from sklearn import svm"
   ]
  },
  {
   "cell_type": "code",
   "execution_count": 90,
   "metadata": {},
   "outputs": [],
   "source": [
    "nClusters = 256\n",
    "svm_c = 10\n",
    "svm_gamma = 0.01\n",
    "svm_kernal = 'rbf'\n",
    "\n",
    "# datasetPath = './dataset/cifar-10-batches-py' \n",
    "datasetPath = '../../'\n",
    "vocabFile = 'vocab.sav'\n",
    "clsFile = 'cls.sav'\n",
    "trainBatch = 1\n",
    "'''trainImgPerBatch = 50\n",
    "testImgPerBatch = 50'''"
   ]
  },
  {
   "cell_type": "code",
   "execution_count": 91,
   "metadata": {},
   "outputs": [],
   "source": [
    "def getLabel(id):\n",
    "    txtLabels = ['airplane', 'automobile', 'bird', 'cat', 'deer', 'dog', 'frog', 'horse', 'ship', 'truck']\n",
    "    return txtLabels[id]"
   ]
  },
  {
   "cell_type": "code",
   "execution_count": 92,
   "metadata": {},
   "outputs": [],
   "source": [
    "def loadBatch(filePath):\n",
    "    with open(filePath, 'rb') as fo:\n",
    "        batchDict = pickle.load(fo, encoding='latin1')\n",
    "        nImgs = len(batchDict['data'])\n",
    "        imgs = batchDict['data'].reshape(nImgs,3,32,32).transpose(0, 2, 3, 1)\n",
    "        labels = batchDict['labels']\n",
    "    return (imgs,labels)"
   ]
  },
  {
   "cell_type": "code",
   "execution_count": 93,
   "metadata": {},
   "outputs": [],
   "source": [
    "def getDescriptors(img, extractor):\n",
    "    gray = cv2.cvtColor(img,cv2.COLOR_RGB2GRAY)\n",
    "    keypoints, descriptors = extractor.detectAndCompute(gray, None)\n",
    "    return descriptors"
   ]
  },
  {
   "cell_type": "code",
   "execution_count": 94,
   "metadata": {},
   "outputs": [],
   "source": [
    "def getBatchDesc(imgs):\n",
    "    descriptors = np.asarray([])\n",
    "    extractor = cv2.xfeatures2d.SIFT_create()\n",
    "    #i = 0\n",
    "    for img in imgs:\n",
    "        desc = getDescriptors(img,extractor)\n",
    "        if type(desc) == np.ndarray :\n",
    "            if descriptors.shape[0] == 0:\n",
    "                descriptors = desc\n",
    "            else:\n",
    "                descriptors = np.concatenate((descriptors, desc), axis=0)\n",
    "    return descriptors"
   ]
  },
  {
   "cell_type": "code",
   "execution_count": 95,
   "metadata": {},
   "outputs": [],
   "source": [
    "def getDatasetDesc():\n",
    "    descriptors = np.asarray([])\n",
    "    for batchId in range(1,trainBatch+1):\n",
    "        batchPath = datasetPath+'/'+'data_batch_'+str(batchId)\n",
    "        imgs,labels = loadBatch(batchPath)\n",
    "        #imgs = imgs[:trainImgPerBatch]\n",
    "        if descriptors.shape[0] == 0:\n",
    "            descriptors = getBatchDesc(imgs)\n",
    "        else:\n",
    "            descriptors = np.concatenate((descriptors, getBatchDesc(imgs)), axis=0)\n",
    "    return descriptors"
   ]
  },
  {
   "cell_type": "code",
   "execution_count": 96,
   "metadata": {},
   "outputs": [],
   "source": [
    "def getVocabularies():\n",
    "    descriptors = getDatasetDesc()\n",
    "    kmeans = KMeans(n_clusters = nClusters)\n",
    "    kmeans.fit(descriptors)\n",
    "    return kmeans"
   ]
  },
  {
   "cell_type": "code",
   "execution_count": 97,
   "metadata": {},
   "outputs": [],
   "source": [
    "def getBagOfKP(img,extractor,vocab):\n",
    "    bok = [0]*nClusters\n",
    "    gray = cv2.cvtColor(img,cv2.COLOR_RGB2GRAY)\n",
    "    keypoints, descriptors = extractor.detectAndCompute(gray, None)\n",
    "    if type(descriptors) == np.ndarray:\n",
    "        pred = vocab.predict(descriptors)\n",
    "        for ele in pred:\n",
    "            bok[ele] = bok[ele] + 1\n",
    "    return bok"
   ]
  },
  {
   "cell_type": "code",
   "execution_count": 98,
   "metadata": {},
   "outputs": [],
   "source": [
    "def getBatchBOK(imgs,vocab):\n",
    "    batchBOK = []\n",
    "    extractor = cv2.xfeatures2d.SIFT_create()\n",
    "    for img in imgs:\n",
    "        bok = getBagOfKP(img,extractor,vocab)\n",
    "        batchBOK.append(bok)\n",
    "    return  np.asarray(batchBOK)"
   ]
  },
  {
   "cell_type": "code",
   "execution_count": 2,
   "metadata": {},
   "outputs": [],
   "source": [
    "def getTrainingDT(vocab):\n",
    "    dataset = np.asarray([])\n",
    "    labels = []\n",
    "    for batchId in range(1,trainBatch+1):\n",
    "        print('collecting batch ',str(batchId),' features ...')\n",
    "        batchPath = datasetPath+'/'+'data_batch_'+str(batchId)\n",
    "        imgs,labs = loadBatch(batchPath)\n",
    "        #imgs = imgs[:trainImgPerBatch]\n",
    "        #labels = labels[:trainImgPerBatch]\n",
    "        if dataset.shape[0] == 0:\n",
    "            dataset = getBatchBOK(imgs,vocab)\n",
    "            labels = labs\n",
    "        else:\n",
    "            dataset = np.concatenate((dataset, getBatchBOK(imgs,vocab)), axis=0)\n",
    "            labels.extend(labs)\n",
    "    return (dataset,np.asarray(labels))"
   ]
  },
  {
   "cell_type": "code",
   "execution_count": 100,
   "metadata": {},
   "outputs": [],
   "source": [
    "def getTestingDT(vocab):\n",
    "    batchPath = datasetPath+'/test_batch'\n",
    "    imgs,labels = loadBatch(batchPath)\n",
    "    #imgs = imgs[:testImgPerBatch]\n",
    "    #labels = labels[:testImgPerBatch]\n",
    "    dataset = getBatchBOK(imgs,vocab)\n",
    "    return (dataset,np.asarray(labels))"
   ]
  },
  {
   "cell_type": "code",
   "execution_count": 101,
   "metadata": {},
   "outputs": [],
   "source": [
    "vocab = getVocabularies()\n",
    "pickle.dump(vocab, open(vocabFile, 'wb'))"
   ]
  },
  {
   "cell_type": "code",
   "execution_count": 102,
   "metadata": {},
   "outputs": [],
   "source": [
    "# dataset,labels = getTrainingDT(vocab)"
   ]
  },
  {
   "cell_type": "code",
   "execution_count": 103,
   "metadata": {},
   "outputs": [],
   "source": [
    "#model = svm.SVC(C=10,kernel='rbf',gamma=0.01)\n",
    "model = svm.SVC(C=svm_c,kernel=svm_kernal,gamma=svm_gamma)\n",
    "print(\"training started...\")\n",
    "model.fit(dataset,labels)\n",
    "pickle.dump(model, open(clsFile, 'wb'))"
   ]
  },
  {
   "cell_type": "code",
   "execution_count": 104,
   "metadata": {},
   "outputs": [],
   "source": [
    "# testDt,testLb = getTestingDT(vocab)"
   ]
  },
  {
   "cell_type": "code",
   "execution_count": 106,
   "metadata": {},
   "outputs": [],
   "source": [
    "# #out = model.predict(testDt)\n",
    "# acc = model.score(testDt,testLb)"
   ]
  },
  {
   "cell_type": "code",
   "execution_count": 107,
   "metadata": {},
   "outputs": [
    {
     "name": "stdout",
     "output_type": "stream",
     "text": [
      "0.1\n"
     ]
    }
   ],
   "source": [
    "# print(acc)"
   ]
  },
  {
   "cell_type": "code",
   "execution_count": null,
   "metadata": {},
   "outputs": [],
   "source": []
  }
 ],
 "metadata": {
  "kernelspec": {
   "display_name": "Python 3",
   "language": "python",
   "name": "python3"
  },
  "language_info": {
   "codemirror_mode": {
    "name": "ipython",
    "version": 3
   },
   "file_extension": ".py",
   "mimetype": "text/x-python",
   "name": "python",
   "nbconvert_exporter": "python",
   "pygments_lexer": "ipython3",
   "version": "3.6.9"
  }
 },
 "nbformat": 4,
 "nbformat_minor": 2
}
